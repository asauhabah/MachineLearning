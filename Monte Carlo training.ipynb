{
 "cells": [
  {
   "cell_type": "code",
   "execution_count": 119,
   "metadata": {
    "collapsed": false
   },
   "outputs": [],
   "source": [
    "import time\n",
    "import numpy as np\n",
    "import matplotlib.pyplot as plt\n",
    "from math import exp, sqrt, pow\n",
    "from random import *\n",
    "import math\n",
    "import multiprocessing as mp\n",
    "from multiprocessing import Pool\n"
   ]
  },
  {
   "cell_type": "code",
   "execution_count": 137,
   "metadata": {
    "collapsed": false
   },
   "outputs": [],
   "source": [
    "def simple_MC(N):\n",
    "    count = 0\n",
    "    x1 = np.random.uniform(0,1,N)\n",
    "    x1 = np.concatenate((x1, 1-x1))  # antithetic variates\n",
    "    \n",
    "    y1 = np.random.uniform(0,1,N)\n",
    "    y1 = np.concatenate((y1, 1-y1))  # antithetic variates\n",
    "    N = 2*N\n",
    "    \n",
    "    fx1 = []\n",
    "    fy1 = []\n",
    "    for i in range(0,N):\n",
    "        d1 = sqrt(pow(x1[i],2) + pow(y1[i], 2))\n",
    "        if d1<=1.:\n",
    "            count +=1.\n",
    "            fx1.append(x1[i])\n",
    "            fy1.append(y1[i])\n",
    "    pi = (4*(count/(N)))\n",
    "    mx1 = np.mean(x1)\n",
    "    vx1 = np.var(fx1)\n",
    "    my1 = np.mean(y1)\n",
    "    vy1 = np.var(fy1)\n",
    "    n = len(fx1)\n",
    "    covar = (np.dot(fx1 - mx1, fy1 - my1))/n\n",
    "\n",
    "    variance = vx1 + vy1 + 2*covar\n",
    "    return pi, variance"
   ]
  },
  {
   "cell_type": "code",
   "execution_count": 162,
   "metadata": {
    "collapsed": true
   },
   "outputs": [],
   "source": [
    "\n",
    "def simple_MC2(N):\n",
    "    count = 0\n",
    "    x1 = np.random.uniform(0,1,N)\n",
    "    y1 = np.random.uniform(0,1,N)\n",
    "\n",
    "    fx1 = []\n",
    "    fy1 = []\n",
    "\n",
    "    for i in range(0,N):\n",
    "        d1 = sqrt(pow(x1[i],2) + pow(y1[i], 2))\n",
    "        if d1<=1.:\n",
    "            count +=1.\n",
    "            fx1.append(x1[i])\n",
    "            fy1.append(y1[i])\n",
    "    pi = (4*(count/(N)))\n",
    "    mx1 = np.mean(x1)\n",
    "    vx1 = np.var(fx1)\n",
    "    my1 = np.mean(y1)\n",
    "    vy1 = np.var(fy1)\n",
    "    n = len(fx1)\n",
    "    covar = (np.dot(fx1 - mx1, fy1 - my1))/n\n",
    "\n",
    "    variance = vx1 + vy1 + 2*covar\n",
    "    return pi, variance"
   ]
  },
  {
   "cell_type": "code",
   "execution_count": 163,
   "metadata": {
    "collapsed": false
   },
   "outputs": [],
   "source": [
    "def sample(N):\n",
    "    # Re-seed the random number generator\n",
    "    np.random.seed()\n",
    "    count = 0\n",
    "        \n",
    "    for i in range(int(N)):\n",
    "        x = random() \n",
    "        y = random() \n",
    "        d1 = sqrt(pow(x,2) + pow(y, 2))\n",
    "        d2 = sqrt(pow(1-x,2) + pow(1-y, 2))\n",
    "        if d1<=1.:\n",
    "            count +=1.\n",
    "        if d2<=1.:\n",
    "            count +=1.\n",
    "    pi = (4*(count/(2*N)))\n",
    "    return pi\n",
    "\n",
    "def parallel_mc(N):\n",
    "    np = multiprocessing.cpu_count()\n",
    "    print (\"You have {0:1d} CPUs\".format(np))\n",
    "    part_count=[N/np for i in range(np)]\n",
    "    print (part_count)\n",
    "    pool = Pool(processes=np)  \n",
    "    # parallel map\n",
    "    res=pool.map(sample, part_count)\n",
    "\n",
    "    return res"
   ]
  },
  {
   "cell_type": "code",
   "execution_count": 167,
   "metadata": {
    "collapsed": false
   },
   "outputs": [
    {
     "name": "stdout",
     "output_type": "stream",
     "text": [
      "simple MC:= antithetic variables   3.141326\n",
      "variance of expectation of Monte Carlo is  0.10923690783310383\n",
      "it took 3.2732458114624023 seconds.\n"
     ]
    }
   ],
   "source": [
    "N= 1000000\n",
    "start = time.time()\n",
    "\n",
    "result = simple_MC(N)\n",
    "print (\"simple MC:= antithetic variables  \", result[0])\n",
    "print (\"variance of expectation of Monte Carlo is \", result[1])\n",
    "print (\"it took\", time.time() - start, \"seconds.\")\n",
    "\n"
   ]
  },
  {
   "cell_type": "code",
   "execution_count": 168,
   "metadata": {
    "collapsed": false
   },
   "outputs": [
    {
     "name": "stdout",
     "output_type": "stream",
     "text": [
      "simple MC2:  3.142512\n",
      "variance of expectation of Monte Carlo is  0.10909766066124345\n",
      "it took 1.910006046295166 seconds.\n"
     ]
    }
   ],
   "source": [
    "N= 1000000\n",
    "start = time.time()\n",
    "\n",
    "result2 = simple_MC2(N)\n",
    "print (\"simple MC2: \", result2[0])\n",
    "print (\"variance of expectation of Monte Carlo is \", result2[1])\n",
    "print (\"it took\", time.time() - start, \"seconds.\")"
   ]
  },
  {
   "cell_type": "code",
   "execution_count": 166,
   "metadata": {
    "collapsed": false
   },
   "outputs": [
    {
     "ename": "NameError",
     "evalue": "name 'multiprocessing' is not defined",
     "output_type": "error",
     "traceback": [
      "\u001b[0;31m---------------------------------------------------------------------------\u001b[0m",
      "\u001b[0;31mNameError\u001b[0m                                 Traceback (most recent call last)",
      "\u001b[0;32m<ipython-input-166-fe51658298ed>\u001b[0m in \u001b[0;36m<module>\u001b[0;34m()\u001b[0m\n\u001b[1;32m      1\u001b[0m \u001b[0mN\u001b[0m\u001b[0;34m=\u001b[0m \u001b[0;36m50000\u001b[0m\u001b[0;34m\u001b[0m\u001b[0m\n\u001b[1;32m      2\u001b[0m \u001b[0mstart\u001b[0m \u001b[0;34m=\u001b[0m \u001b[0mtime\u001b[0m\u001b[0;34m.\u001b[0m\u001b[0mtime\u001b[0m\u001b[0;34m(\u001b[0m\u001b[0;34m)\u001b[0m\u001b[0;34m\u001b[0m\u001b[0m\n\u001b[0;32m----> 3\u001b[0;31m \u001b[0mpi2\u001b[0m \u001b[0;34m=\u001b[0m \u001b[0mnp\u001b[0m\u001b[0;34m.\u001b[0m\u001b[0mmean\u001b[0m\u001b[0;34m(\u001b[0m\u001b[0mparallel_mc\u001b[0m\u001b[0;34m(\u001b[0m\u001b[0mN\u001b[0m\u001b[0;34m)\u001b[0m\u001b[0;34m)\u001b[0m\u001b[0;34m\u001b[0m\u001b[0m\n\u001b[0m\u001b[1;32m      4\u001b[0m \u001b[0mdiff\u001b[0m \u001b[0;34m=\u001b[0m \u001b[0mabs\u001b[0m\u001b[0;34m(\u001b[0m\u001b[0mpi2\u001b[0m \u001b[0;34m-\u001b[0m \u001b[0mmath\u001b[0m\u001b[0;34m.\u001b[0m\u001b[0mpi\u001b[0m\u001b[0;34m)\u001b[0m\u001b[0;34m\u001b[0m\u001b[0m\n\u001b[1;32m      5\u001b[0m \u001b[0mprint\u001b[0m \u001b[0;34m(\u001b[0m\u001b[0;34m\"parallel MC: \"\u001b[0m\u001b[0;34m,\u001b[0m \u001b[0mpi2\u001b[0m\u001b[0;34m)\u001b[0m\u001b[0;34m\u001b[0m\u001b[0m\n",
      "\u001b[0;32m<ipython-input-163-45c815074eca>\u001b[0m in \u001b[0;36mparallel_mc\u001b[0;34m(N)\u001b[0m\n\u001b[1;32m     17\u001b[0m \u001b[0;34m\u001b[0m\u001b[0m\n\u001b[1;32m     18\u001b[0m \u001b[0;32mdef\u001b[0m \u001b[0mparallel_mc\u001b[0m\u001b[0;34m(\u001b[0m\u001b[0mN\u001b[0m\u001b[0;34m)\u001b[0m\u001b[0;34m:\u001b[0m\u001b[0;34m\u001b[0m\u001b[0m\n\u001b[0;32m---> 19\u001b[0;31m     \u001b[0mnp\u001b[0m \u001b[0;34m=\u001b[0m \u001b[0mmultiprocessing\u001b[0m\u001b[0;34m.\u001b[0m\u001b[0mcpu_count\u001b[0m\u001b[0;34m(\u001b[0m\u001b[0;34m)\u001b[0m\u001b[0;34m\u001b[0m\u001b[0m\n\u001b[0m\u001b[1;32m     20\u001b[0m     \u001b[0mprint\u001b[0m \u001b[0;34m(\u001b[0m\u001b[0;34m\"You have {0:1d} CPUs\"\u001b[0m\u001b[0;34m.\u001b[0m\u001b[0mformat\u001b[0m\u001b[0;34m(\u001b[0m\u001b[0mnp\u001b[0m\u001b[0;34m)\u001b[0m\u001b[0;34m)\u001b[0m\u001b[0;34m\u001b[0m\u001b[0m\n\u001b[1;32m     21\u001b[0m     \u001b[0mpart_count\u001b[0m\u001b[0;34m=\u001b[0m\u001b[0;34m[\u001b[0m\u001b[0mN\u001b[0m\u001b[0;34m/\u001b[0m\u001b[0mnp\u001b[0m \u001b[0;32mfor\u001b[0m \u001b[0mi\u001b[0m \u001b[0;32min\u001b[0m \u001b[0mrange\u001b[0m\u001b[0;34m(\u001b[0m\u001b[0mnp\u001b[0m\u001b[0;34m)\u001b[0m\u001b[0;34m]\u001b[0m\u001b[0;34m\u001b[0m\u001b[0m\n",
      "\u001b[0;31mNameError\u001b[0m: name 'multiprocessing' is not defined"
     ]
    }
   ],
   "source": [
    "N= 50000\n",
    "start = time.time()\n",
    "pi2 = np.mean(parallel_mc(N))\n",
    "diff = abs(pi2 - math.pi)\n",
    "print (\"parallel MC: \", pi2)\n",
    "print(math.pi)\n",
    "print (diff)\n",
    "print (\"it took\", time.time() - start, \"seconds.\")"
   ]
  },
  {
   "cell_type": "code",
   "execution_count": null,
   "metadata": {
    "collapsed": true
   },
   "outputs": [],
   "source": []
  }
 ],
 "metadata": {
  "anaconda-cloud": {},
  "kernelspec": {
   "display_name": "Python [Root]",
   "language": "python",
   "name": "Python [Root]"
  },
  "language_info": {
   "codemirror_mode": {
    "name": "ipython",
    "version": 3
   },
   "file_extension": ".py",
   "mimetype": "text/x-python",
   "name": "python",
   "nbconvert_exporter": "python",
   "pygments_lexer": "ipython3",
   "version": "3.5.2"
  }
 },
 "nbformat": 4,
 "nbformat_minor": 0
}
